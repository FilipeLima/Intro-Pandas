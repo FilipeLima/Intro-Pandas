{
  "nbformat": 4,
  "nbformat_minor": 0,
  "metadata": {
    "colab": {
      "name": "Workshop.ipynb",
      "provenance": [],
      "mount_file_id": "11VslH-UXrcMYfxijoYaumlK512zk2PWa",
      "authorship_tag": "ABX9TyM7IAXGP1kq2XG/oN0ilevO",
      "include_colab_link": true
    },
    "kernelspec": {
      "name": "python3",
      "display_name": "Python 3"
    },
    "language_info": {
      "name": "python"
    }
  },
  "cells": [
    {
      "cell_type": "markdown",
      "metadata": {
        "id": "view-in-github",
        "colab_type": "text"
      },
      "source": [
        "<a href=\"https://colab.research.google.com/github/FilipeLima/Intro-Pandas/blob/main/Workshop.ipynb\" target=\"_parent\"><img src=\"https://colab.research.google.com/assets/colab-badge.svg\" alt=\"Open In Colab\"/></a>"
      ]
    },
    {
      "cell_type": "markdown",
      "metadata": {
        "id": "0TeMiS_rP1KY"
      },
      "source": [
        "Pacote Google Drive"
      ]
    },
    {
      "cell_type": "code",
      "metadata": {
        "colab": {
          "base_uri": "https://localhost:8080/"
        },
        "id": "7MJI668Qwg3o",
        "outputId": "726b8cad-ff2b-449a-9da2-9d9e574b9c5b"
      },
      "source": [
        "from google.colab import drive\n",
        "import pandas as pd\n",
        "drive.mount('/content/drive')"
      ],
      "execution_count": 10,
      "outputs": [
        {
          "output_type": "stream",
          "name": "stdout",
          "text": [
            "Drive already mounted at /content/drive; to attempt to forcibly remount, call drive.mount(\"/content/drive\", force_remount=True).\n"
          ]
        }
      ]
    },
    {
      "cell_type": "code",
      "metadata": {
        "id": "tiweTcTKXzZX",
        "colab": {
          "base_uri": "https://localhost:8080/",
          "height": 204
        },
        "outputId": "7ce8f88c-d18f-463f-9414-4e9ba18818e2"
      },
      "source": [
        "\n",
        "clothes = pd.read_csv(\"./drive/MyDrive/final_test.csv\")\n",
        "clothes.head()"
      ],
      "execution_count": 11,
      "outputs": [
        {
          "output_type": "execute_result",
          "data": {
            "text/html": [
              "<div>\n",
              "<style scoped>\n",
              "    .dataframe tbody tr th:only-of-type {\n",
              "        vertical-align: middle;\n",
              "    }\n",
              "\n",
              "    .dataframe tbody tr th {\n",
              "        vertical-align: top;\n",
              "    }\n",
              "\n",
              "    .dataframe thead th {\n",
              "        text-align: right;\n",
              "    }\n",
              "</style>\n",
              "<table border=\"1\" class=\"dataframe\">\n",
              "  <thead>\n",
              "    <tr style=\"text-align: right;\">\n",
              "      <th></th>\n",
              "      <th>weight</th>\n",
              "      <th>age</th>\n",
              "      <th>height</th>\n",
              "      <th>size</th>\n",
              "    </tr>\n",
              "  </thead>\n",
              "  <tbody>\n",
              "    <tr>\n",
              "      <th>0</th>\n",
              "      <td>62</td>\n",
              "      <td>28.0</td>\n",
              "      <td>172.72</td>\n",
              "      <td>XL</td>\n",
              "    </tr>\n",
              "    <tr>\n",
              "      <th>1</th>\n",
              "      <td>59</td>\n",
              "      <td>36.0</td>\n",
              "      <td>167.64</td>\n",
              "      <td>L</td>\n",
              "    </tr>\n",
              "    <tr>\n",
              "      <th>2</th>\n",
              "      <td>61</td>\n",
              "      <td>34.0</td>\n",
              "      <td>165.10</td>\n",
              "      <td>M</td>\n",
              "    </tr>\n",
              "    <tr>\n",
              "      <th>3</th>\n",
              "      <td>65</td>\n",
              "      <td>27.0</td>\n",
              "      <td>175.26</td>\n",
              "      <td>L</td>\n",
              "    </tr>\n",
              "    <tr>\n",
              "      <th>4</th>\n",
              "      <td>62</td>\n",
              "      <td>45.0</td>\n",
              "      <td>172.72</td>\n",
              "      <td>M</td>\n",
              "    </tr>\n",
              "  </tbody>\n",
              "</table>\n",
              "</div>"
            ],
            "text/plain": [
              "   weight   age  height size\n",
              "0      62  28.0  172.72   XL\n",
              "1      59  36.0  167.64    L\n",
              "2      61  34.0  165.10    M\n",
              "3      65  27.0  175.26    L\n",
              "4      62  45.0  172.72    M"
            ]
          },
          "metadata": {},
          "execution_count": 11
        }
      ]
    },
    {
      "cell_type": "code",
      "metadata": {
        "id": "asUOqS3paCVA"
      },
      "source": [
        "clothes.describe()"
      ],
      "execution_count": null,
      "outputs": []
    },
    {
      "cell_type": "code",
      "metadata": {
        "colab": {
          "base_uri": "https://localhost:8080/",
          "height": 306
        },
        "id": "26bo2JFTQJ12",
        "outputId": "b717ae4a-797a-4788-811f-7baddf51a00a"
      },
      "source": [
        "notas = pd.read_csv(\"./drive/MyDrive/notas.csv\")\n",
        "notas.head()"
      ],
      "execution_count": 12,
      "outputs": [
        {
          "output_type": "execute_result",
          "data": {
            "text/html": [
              "<div>\n",
              "<style scoped>\n",
              "    .dataframe tbody tr th:only-of-type {\n",
              "        vertical-align: middle;\n",
              "    }\n",
              "\n",
              "    .dataframe tbody tr th {\n",
              "        vertical-align: top;\n",
              "    }\n",
              "\n",
              "    .dataframe thead th {\n",
              "        text-align: right;\n",
              "    }\n",
              "</style>\n",
              "<table border=\"1\" class=\"dataframe\">\n",
              "  <thead>\n",
              "    <tr style=\"text-align: right;\">\n",
              "      <th></th>\n",
              "      <th>Unnamed: 0</th>\n",
              "      <th>Nome</th>\n",
              "      <th>1VA</th>\n",
              "      <th>2VA</th>\n",
              "      <th>3VA</th>\n",
              "      <th>MEDIA</th>\n",
              "      <th>VAFN</th>\n",
              "      <th>MFIN</th>\n",
              "      <th>SIT</th>\n",
              "      <th>FALTAS</th>\n",
              "      <th>ANO</th>\n",
              "      <th>SEMESTRE</th>\n",
              "      <th>TURMA</th>\n",
              "      <th>PROFESSOR</th>\n",
              "      <th>UNIDADE</th>\n",
              "      <th>DISCIPLINA</th>\n",
              "    </tr>\n",
              "  </thead>\n",
              "  <tbody>\n",
              "    <tr>\n",
              "      <th>0</th>\n",
              "      <td>1</td>\n",
              "      <td>AILTON BARBOSA RODRIGUES</td>\n",
              "      <td>3</td>\n",
              "      <td>F</td>\n",
              "      <td>F</td>\n",
              "      <td>NaN</td>\n",
              "      <td>NaN</td>\n",
              "      <td>NaN</td>\n",
              "      <td>RF</td>\n",
              "      <td>0</td>\n",
              "      <td>2018</td>\n",
              "      <td>1</td>\n",
              "      <td>LQ1</td>\n",
              "      <td>FILIPE</td>\n",
              "      <td>UAST</td>\n",
              "      <td>Matemática Básica</td>\n",
              "    </tr>\n",
              "    <tr>\n",
              "      <th>1</th>\n",
              "      <td>2</td>\n",
              "      <td>ALANE FELIZARDO VANDERLEI</td>\n",
              "      <td>0,5</td>\n",
              "      <td>2,4</td>\n",
              "      <td>1</td>\n",
              "      <td>1,7</td>\n",
              "      <td>NaN</td>\n",
              "      <td>1,7</td>\n",
              "      <td>RP</td>\n",
              "      <td>8</td>\n",
              "      <td>2018</td>\n",
              "      <td>1</td>\n",
              "      <td>LQ1</td>\n",
              "      <td>FILIPE</td>\n",
              "      <td>UAST</td>\n",
              "      <td>Matemática Básica</td>\n",
              "    </tr>\n",
              "    <tr>\n",
              "      <th>2</th>\n",
              "      <td>3</td>\n",
              "      <td>ALINE ALVES DA SILVA</td>\n",
              "      <td>7</td>\n",
              "      <td>10</td>\n",
              "      <td>NaN</td>\n",
              "      <td>8,5</td>\n",
              "      <td>NaN</td>\n",
              "      <td>8,5</td>\n",
              "      <td>AM</td>\n",
              "      <td>0</td>\n",
              "      <td>2018</td>\n",
              "      <td>1</td>\n",
              "      <td>LQ1</td>\n",
              "      <td>FILIPE</td>\n",
              "      <td>UAST</td>\n",
              "      <td>Matemática Básica</td>\n",
              "    </tr>\n",
              "    <tr>\n",
              "      <th>3</th>\n",
              "      <td>4</td>\n",
              "      <td>AUGUSTO FRANCISCO DE FREITAS RAMALHO</td>\n",
              "      <td>F</td>\n",
              "      <td>F</td>\n",
              "      <td>NaN</td>\n",
              "      <td>NaN</td>\n",
              "      <td>NaN</td>\n",
              "      <td>NaN</td>\n",
              "      <td>RF</td>\n",
              "      <td>22</td>\n",
              "      <td>2018</td>\n",
              "      <td>1</td>\n",
              "      <td>LQ1</td>\n",
              "      <td>FILIPE</td>\n",
              "      <td>UAST</td>\n",
              "      <td>Matemática Básica</td>\n",
              "    </tr>\n",
              "    <tr>\n",
              "      <th>4</th>\n",
              "      <td>5</td>\n",
              "      <td>CAIO JOSE DA SILVA CAMPOS</td>\n",
              "      <td>10</td>\n",
              "      <td>9,5</td>\n",
              "      <td>NaN</td>\n",
              "      <td>9,75</td>\n",
              "      <td>NaN</td>\n",
              "      <td>9,75</td>\n",
              "      <td>AM</td>\n",
              "      <td>0</td>\n",
              "      <td>2018</td>\n",
              "      <td>1</td>\n",
              "      <td>LQ1</td>\n",
              "      <td>FILIPE</td>\n",
              "      <td>UAST</td>\n",
              "      <td>Matemática Básica</td>\n",
              "    </tr>\n",
              "  </tbody>\n",
              "</table>\n",
              "</div>"
            ],
            "text/plain": [
              "   Unnamed: 0                                  Nome  ... UNIDADE         DISCIPLINA\n",
              "0           1              AILTON BARBOSA RODRIGUES  ...    UAST  Matemática Básica\n",
              "1           2             ALANE FELIZARDO VANDERLEI  ...    UAST  Matemática Básica\n",
              "2           3                  ALINE ALVES DA SILVA  ...    UAST  Matemática Básica\n",
              "3           4  AUGUSTO FRANCISCO DE FREITAS RAMALHO  ...    UAST  Matemática Básica\n",
              "4           5             CAIO JOSE DA SILVA CAMPOS  ...    UAST  Matemática Básica\n",
              "\n",
              "[5 rows x 16 columns]"
            ]
          },
          "metadata": {},
          "execution_count": 12
        }
      ]
    },
    {
      "cell_type": "markdown",
      "metadata": {
        "id": "Zx9Rrxu_RyHj"
      },
      "source": [
        "Informações básicas"
      ]
    },
    {
      "cell_type": "code",
      "metadata": {
        "colab": {
          "base_uri": "https://localhost:8080/"
        },
        "id": "flmd4FL9RxZJ",
        "outputId": "c34b4415-889e-4607-9c53-7b1561e37b30"
      },
      "source": [
        "notas.shape"
      ],
      "execution_count": null,
      "outputs": [
        {
          "output_type": "execute_result",
          "data": {
            "text/plain": [
              "(392, 16)"
            ]
          },
          "metadata": {},
          "execution_count": 8
        }
      ]
    },
    {
      "cell_type": "code",
      "metadata": {
        "colab": {
          "base_uri": "https://localhost:8080/"
        },
        "id": "0bBoO9-zR3kh",
        "outputId": "333aa86d-92a7-4ad3-b6c4-f5b8d1ae845e"
      },
      "source": [
        "notas.columns"
      ],
      "execution_count": null,
      "outputs": [
        {
          "output_type": "execute_result",
          "data": {
            "text/plain": [
              "Index(['Unnamed: 0', 'Nome', '1VA', '2VA', '3VA', 'MEDIA', 'VAFN', 'MFIN',\n",
              "       'SIT', 'FALTAS', 'ANO', 'SEMESTRE', 'TURMA', 'PROFESSOR', 'UNIDADE',\n",
              "       'DISCIPLINA'],\n",
              "      dtype='object')"
            ]
          },
          "metadata": {},
          "execution_count": 10
        }
      ]
    },
    {
      "cell_type": "code",
      "metadata": {
        "colab": {
          "base_uri": "https://localhost:8080/"
        },
        "id": "mq1mAEH2TqqB",
        "outputId": "3464fa85-eb36-439e-97ad-7ede91cbece0"
      },
      "source": [
        "notas.dtypes"
      ],
      "execution_count": null,
      "outputs": [
        {
          "output_type": "execute_result",
          "data": {
            "text/plain": [
              "Unnamed: 0     int64\n",
              "Nome          object\n",
              "1VA           object\n",
              "2VA           object\n",
              "3VA           object\n",
              "MEDIA         object\n",
              "VAFN          object\n",
              "MFIN          object\n",
              "SIT           object\n",
              "FALTAS         int64\n",
              "ANO            int64\n",
              "SEMESTRE       int64\n",
              "TURMA         object\n",
              "PROFESSOR     object\n",
              "UNIDADE       object\n",
              "DISCIPLINA    object\n",
              "dtype: object"
            ]
          },
          "metadata": {},
          "execution_count": 14
        }
      ]
    },
    {
      "cell_type": "code",
      "metadata": {
        "colab": {
          "base_uri": "https://localhost:8080/"
        },
        "id": "rNfsKPxFWFh2",
        "outputId": "dae3aff0-08fd-4cbe-8d26-f6d31d3d3a2f"
      },
      "source": [
        "notas['ANO'].unique()"
      ],
      "execution_count": null,
      "outputs": [
        {
          "output_type": "execute_result",
          "data": {
            "text/plain": [
              "array([2018, 2017, 2016])"
            ]
          },
          "metadata": {},
          "execution_count": 32
        }
      ]
    },
    {
      "cell_type": "code",
      "metadata": {
        "colab": {
          "base_uri": "https://localhost:8080/"
        },
        "id": "ewb7-TY7T5a8",
        "outputId": "50188637-7f57-4d2e-af52-688963f28d71"
      },
      "source": [
        "print(pd.isnull(notas['3VA']))"
      ],
      "execution_count": null,
      "outputs": [
        {
          "output_type": "stream",
          "name": "stdout",
          "text": [
            "0      False\n",
            "1      False\n",
            "2       True\n",
            "3       True\n",
            "4       True\n",
            "       ...  \n",
            "387    False\n",
            "388     True\n",
            "389    False\n",
            "390     True\n",
            "391     True\n",
            "Name: 3VA, Length: 392, dtype: bool\n"
          ]
        }
      ]
    },
    {
      "cell_type": "code",
      "metadata": {
        "colab": {
          "base_uri": "https://localhost:8080/"
        },
        "id": "eWFQ2KmdVyhY",
        "outputId": "ec270ddd-a3eb-4faa-8333-6cc7bf28a6d7"
      },
      "source": [
        "pd.isnull(notas['3VA']).sum()"
      ],
      "execution_count": null,
      "outputs": [
        {
          "output_type": "execute_result",
          "data": {
            "text/plain": [
              "222"
            ]
          },
          "metadata": {},
          "execution_count": 29
        }
      ]
    },
    {
      "cell_type": "code",
      "metadata": {
        "colab": {
          "base_uri": "https://localhost:8080/"
        },
        "id": "xRLDRRLOWttc",
        "outputId": "25c958bb-60fe-4068-afee-a4e8b970a4aa"
      },
      "source": [
        "notas.info()"
      ],
      "execution_count": null,
      "outputs": [
        {
          "output_type": "stream",
          "name": "stdout",
          "text": [
            "<class 'pandas.core.frame.DataFrame'>\n",
            "RangeIndex: 392 entries, 0 to 391\n",
            "Data columns (total 16 columns):\n",
            " #   Column      Non-Null Count  Dtype \n",
            "---  ------      --------------  ----- \n",
            " 0   Unnamed: 0  392 non-null    int64 \n",
            " 1   Nome        392 non-null    object\n",
            " 2   1VA         392 non-null    object\n",
            " 3   2VA         392 non-null    object\n",
            " 4   3VA         170 non-null    object\n",
            " 5   MEDIA       313 non-null    object\n",
            " 6   VAFN        69 non-null     object\n",
            " 7   MFIN        313 non-null    object\n",
            " 8   SIT         392 non-null    object\n",
            " 9   FALTAS      392 non-null    int64 \n",
            " 10  ANO         392 non-null    int64 \n",
            " 11  SEMESTRE    392 non-null    int64 \n",
            " 12  TURMA       392 non-null    object\n",
            " 13  PROFESSOR   392 non-null    object\n",
            " 14  UNIDADE     392 non-null    object\n",
            " 15  DISCIPLINA  392 non-null    object\n",
            "dtypes: int64(4), object(12)\n",
            "memory usage: 49.1+ KB\n"
          ]
        }
      ]
    },
    {
      "cell_type": "code",
      "metadata": {
        "colab": {
          "base_uri": "https://localhost:8080/",
          "height": 359
        },
        "id": "sPetsRJ9UXD1",
        "outputId": "da121fbc-10d5-4bb3-face-ca6d64cd54da"
      },
      "source": [
        "notas.iloc[100:110,3:6]"
      ],
      "execution_count": null,
      "outputs": [
        {
          "output_type": "execute_result",
          "data": {
            "text/html": [
              "<div>\n",
              "<style scoped>\n",
              "    .dataframe tbody tr th:only-of-type {\n",
              "        vertical-align: middle;\n",
              "    }\n",
              "\n",
              "    .dataframe tbody tr th {\n",
              "        vertical-align: top;\n",
              "    }\n",
              "\n",
              "    .dataframe thead th {\n",
              "        text-align: right;\n",
              "    }\n",
              "</style>\n",
              "<table border=\"1\" class=\"dataframe\">\n",
              "  <thead>\n",
              "    <tr style=\"text-align: right;\">\n",
              "      <th></th>\n",
              "      <th>2VA</th>\n",
              "      <th>3VA</th>\n",
              "      <th>MEDIA</th>\n",
              "    </tr>\n",
              "  </thead>\n",
              "  <tbody>\n",
              "    <tr>\n",
              "      <th>100</th>\n",
              "      <td>F</td>\n",
              "      <td>NaN</td>\n",
              "      <td>NaN</td>\n",
              "    </tr>\n",
              "    <tr>\n",
              "      <th>101</th>\n",
              "      <td>3,5</td>\n",
              "      <td>F</td>\n",
              "      <td>2,25</td>\n",
              "    </tr>\n",
              "    <tr>\n",
              "      <th>102</th>\n",
              "      <td>10</td>\n",
              "      <td>NaN</td>\n",
              "      <td>10</td>\n",
              "    </tr>\n",
              "    <tr>\n",
              "      <th>103</th>\n",
              "      <td>F</td>\n",
              "      <td>F</td>\n",
              "      <td>NaN</td>\n",
              "    </tr>\n",
              "    <tr>\n",
              "      <th>104</th>\n",
              "      <td>6</td>\n",
              "      <td>NaN</td>\n",
              "      <td>8</td>\n",
              "    </tr>\n",
              "    <tr>\n",
              "      <th>105</th>\n",
              "      <td>F</td>\n",
              "      <td>NaN</td>\n",
              "      <td>NaN</td>\n",
              "    </tr>\n",
              "    <tr>\n",
              "      <th>106</th>\n",
              "      <td>10</td>\n",
              "      <td>NaN</td>\n",
              "      <td>10</td>\n",
              "    </tr>\n",
              "    <tr>\n",
              "      <th>107</th>\n",
              "      <td>2</td>\n",
              "      <td>10</td>\n",
              "      <td>9,75</td>\n",
              "    </tr>\n",
              "    <tr>\n",
              "      <th>108</th>\n",
              "      <td>10</td>\n",
              "      <td>NaN</td>\n",
              "      <td>10</td>\n",
              "    </tr>\n",
              "    <tr>\n",
              "      <th>109</th>\n",
              "      <td>2</td>\n",
              "      <td>5</td>\n",
              "      <td>6,5</td>\n",
              "    </tr>\n",
              "  </tbody>\n",
              "</table>\n",
              "</div>"
            ],
            "text/plain": [
              "     2VA  3VA MEDIA\n",
              "100    F  NaN   NaN\n",
              "101  3,5    F  2,25\n",
              "102   10  NaN    10\n",
              "103    F    F   NaN\n",
              "104    6  NaN     8\n",
              "105    F  NaN   NaN\n",
              "106   10  NaN    10\n",
              "107    2   10  9,75\n",
              "108   10  NaN    10\n",
              "109    2    5   6,5"
            ]
          },
          "metadata": {},
          "execution_count": 53
        }
      ]
    },
    {
      "cell_type": "code",
      "metadata": {
        "colab": {
          "base_uri": "https://localhost:8080/",
          "height": 390
        },
        "id": "bX3wZUUpVkqe",
        "outputId": "0cf71c28-3aa8-4e27-9f03-be2feac07412"
      },
      "source": [
        "notas.loc[120:130,[\"2VA\",\"3VA\",\"PROFESSOR\"]]"
      ],
      "execution_count": null,
      "outputs": [
        {
          "output_type": "execute_result",
          "data": {
            "text/html": [
              "<div>\n",
              "<style scoped>\n",
              "    .dataframe tbody tr th:only-of-type {\n",
              "        vertical-align: middle;\n",
              "    }\n",
              "\n",
              "    .dataframe tbody tr th {\n",
              "        vertical-align: top;\n",
              "    }\n",
              "\n",
              "    .dataframe thead th {\n",
              "        text-align: right;\n",
              "    }\n",
              "</style>\n",
              "<table border=\"1\" class=\"dataframe\">\n",
              "  <thead>\n",
              "    <tr style=\"text-align: right;\">\n",
              "      <th></th>\n",
              "      <th>2VA</th>\n",
              "      <th>3VA</th>\n",
              "      <th>PROFESSOR</th>\n",
              "    </tr>\n",
              "  </thead>\n",
              "  <tbody>\n",
              "    <tr>\n",
              "      <th>120</th>\n",
              "      <td>10</td>\n",
              "      <td>NaN</td>\n",
              "      <td>FILIPE</td>\n",
              "    </tr>\n",
              "    <tr>\n",
              "      <th>121</th>\n",
              "      <td>8</td>\n",
              "      <td>NaN</td>\n",
              "      <td>FILIPE</td>\n",
              "    </tr>\n",
              "    <tr>\n",
              "      <th>122</th>\n",
              "      <td>F</td>\n",
              "      <td>NaN</td>\n",
              "      <td>FILIPE</td>\n",
              "    </tr>\n",
              "    <tr>\n",
              "      <th>123</th>\n",
              "      <td>4</td>\n",
              "      <td>10</td>\n",
              "      <td>FILIPE</td>\n",
              "    </tr>\n",
              "    <tr>\n",
              "      <th>124</th>\n",
              "      <td>F</td>\n",
              "      <td>3</td>\n",
              "      <td>FILIPE</td>\n",
              "    </tr>\n",
              "    <tr>\n",
              "      <th>125</th>\n",
              "      <td>10</td>\n",
              "      <td>NaN</td>\n",
              "      <td>FILIPE</td>\n",
              "    </tr>\n",
              "    <tr>\n",
              "      <th>126</th>\n",
              "      <td>9</td>\n",
              "      <td>NaN</td>\n",
              "      <td>FILIPE</td>\n",
              "    </tr>\n",
              "    <tr>\n",
              "      <th>127</th>\n",
              "      <td>F</td>\n",
              "      <td>NaN</td>\n",
              "      <td>FILIPE</td>\n",
              "    </tr>\n",
              "    <tr>\n",
              "      <th>128</th>\n",
              "      <td>9</td>\n",
              "      <td>NaN</td>\n",
              "      <td>FILIPE</td>\n",
              "    </tr>\n",
              "    <tr>\n",
              "      <th>129</th>\n",
              "      <td>10</td>\n",
              "      <td>NaN</td>\n",
              "      <td>FILIPE</td>\n",
              "    </tr>\n",
              "    <tr>\n",
              "      <th>130</th>\n",
              "      <td>8</td>\n",
              "      <td>2</td>\n",
              "      <td>FILIPE</td>\n",
              "    </tr>\n",
              "  </tbody>\n",
              "</table>\n",
              "</div>"
            ],
            "text/plain": [
              "    2VA  3VA PROFESSOR\n",
              "120  10  NaN    FILIPE\n",
              "121   8  NaN    FILIPE\n",
              "122   F  NaN    FILIPE\n",
              "123   4   10    FILIPE\n",
              "124   F    3    FILIPE\n",
              "125  10  NaN    FILIPE\n",
              "126   9  NaN    FILIPE\n",
              "127   F  NaN    FILIPE\n",
              "128   9  NaN    FILIPE\n",
              "129  10  NaN    FILIPE\n",
              "130   8    2    FILIPE"
            ]
          },
          "metadata": {},
          "execution_count": 27
        }
      ]
    },
    {
      "cell_type": "markdown",
      "metadata": {
        "id": "MJ3zpLwbaMMT"
      },
      "source": [
        "Visualização"
      ]
    },
    {
      "cell_type": "code",
      "metadata": {
        "colab": {
          "base_uri": "https://localhost:8080/",
          "height": 288
        },
        "id": "jvlJCJLDTZg2",
        "outputId": "bd33d682-ff11-4bb2-89b6-f814c5769044"
      },
      "source": [
        "import seaborn as sns\n",
        "sns.set_style(\"whitegrid\")\n",
        "notas[\"SIT\"].value_counts().plot(kind='bar')"
      ],
      "execution_count": null,
      "outputs": [
        {
          "output_type": "execute_result",
          "data": {
            "text/plain": [
              "<matplotlib.axes._subplots.AxesSubplot at 0x7fba2c8758d0>"
            ]
          },
          "metadata": {},
          "execution_count": 52
        },
        {
          "output_type": "display_data",
          "data": {
            "image/png": "[encoded data removed]",
            "text/plain": [
              "<Figure size 432x288 with 1 Axes>"
            ]
          },
          "metadata": {}
        }
      ]
    },
    {
      "cell_type": "code",
      "metadata": {
        "colab": {
          "base_uri": "https://localhost:8080/"
        },
        "id": "IZtWXWOqFc9g",
        "outputId": "63665363-8439-4cbb-93eb-45f0632b6603"
      },
      "source": [
        "#pd.isnull(pd.to_numeric(notas['1VA'],errors='coerce')).sum()\n",
        "pd.to_numeric(notas['1VA'],errors='coerce')"
      ],
      "execution_count": 24,
      "outputs": [
        {
          "output_type": "execute_result",
          "data": {
            "text/plain": [
              "0       3.0\n",
              "1       NaN\n",
              "2       7.0\n",
              "3       NaN\n",
              "4      10.0\n",
              "       ... \n",
              "387     NaN\n",
              "388     NaN\n",
              "389    10.0\n",
              "390    10.0\n",
              "391    10.0\n",
              "Name: 1VA, Length: 392, dtype: float64"
            ]
          },
          "metadata": {},
          "execution_count": 24
        }
      ]
    },
    {
      "cell_type": "code",
      "metadata": {
        "colab": {
          "base_uri": "https://localhost:8080/"
        },
        "id": "o1GARfr7JZWf",
        "outputId": "1cb3ed9a-47cb-4bb9-f25c-3093757acb94"
      },
      "source": [
        "pd.isnull(pd.to_numeric(notas['MFIN'],errors='coerce')).sum()"
      ],
      "execution_count": 28,
      "outputs": [
        {
          "output_type": "execute_result",
          "data": {
            "text/plain": [
              "265"
            ]
          },
          "metadata": {},
          "execution_count": 28
        }
      ]
    },
    {
      "cell_type": "code",
      "metadata": {
        "colab": {
          "base_uri": "https://localhost:8080/",
          "height": 282
        },
        "id": "om68zXZ2ZWCQ",
        "outputId": "f1e9aa2a-f7b3-4106-8680-8809ea99f03d"
      },
      "source": [
        "import seaborn as sns\n",
        "sns.set_style(\"whitegrid\")\n",
        "clothes[\"weight\"].plot(kind='hist')"
      ],
      "execution_count": null,
      "outputs": [
        {
          "output_type": "execute_result",
          "data": {
            "text/plain": [
              "<matplotlib.axes._subplots.AxesSubplot at 0x7f85241be1d0>"
            ]
          },
          "metadata": {
            "tags": []
          },
          "execution_count": 3
        },
        {
          "output_type": "display_data",
          "data": {
            "image/png": "[encoded data removed]",
            "text/plain": [
              "<Figure size 432x288 with 1 Axes>"
            ]
          },
          "metadata": {
            "tags": []
          }
        }
      ]
    },
    {
      "cell_type": "code",
      "metadata": {
        "colab": {
          "base_uri": "https://localhost:8080/",
          "height": 282
        },
        "id": "IUm7F-WeZi8Y",
        "outputId": "46b25094-9d81-4c49-f554-b916ebed51cd"
      },
      "source": [
        "clothes[\"height\"].plot(kind='hist')"
      ],
      "execution_count": null,
      "outputs": [
        {
          "output_type": "execute_result",
          "data": {
            "text/plain": [
              "<matplotlib.axes._subplots.AxesSubplot at 0x7fa2994c6c10>"
            ]
          },
          "metadata": {
            "tags": []
          },
          "execution_count": 4
        },
        {
          "output_type": "display_data",
          "data": {
            "image/png": "[encoded data removed]",
            "text/plain": [
              "<Figure size 432x288 with 1 Axes>"
            ]
          },
          "metadata": {
            "tags": []
          }
        }
      ]
    },
    {
      "cell_type": "code",
      "metadata": {
        "colab": {
          "base_uri": "https://localhost:8080/",
          "height": 282
        },
        "id": "wU5uGgFbZfoU",
        "outputId": "5472576b-f01d-4c62-ac61-d5eeb7d933d4"
      },
      "source": [
        "clothes[\"age\"].plot(kind='hist')"
      ],
      "execution_count": null,
      "outputs": [
        {
          "output_type": "execute_result",
          "data": {
            "text/plain": [
              "<matplotlib.axes._subplots.AxesSubplot at 0x7fa29999eb90>"
            ]
          },
          "metadata": {
            "tags": []
          },
          "execution_count": 3
        },
        {
          "output_type": "display_data",
          "data": {
            "image/png": "[encoded data removed]",
            "text/plain": [
              "<Figure size 432x288 with 1 Axes>"
            ]
          },
          "metadata": {
            "tags": []
          }
        }
      ]
    },
    {
      "cell_type": "code",
      "metadata": {
        "colab": {
          "base_uri": "https://localhost:8080/"
        },
        "id": "sYoLnT-iZu8k",
        "outputId": "976170be-ade5-4b57-a11a-bedffb3a1969"
      },
      "source": [
        "clothes['size'].value_counts()"
      ],
      "execution_count": null,
      "outputs": [
        {
          "output_type": "execute_result",
          "data": {
            "text/plain": [
              "M       29712\n",
              "S       21924\n",
              "XXXL    21359\n",
              "XL      19119\n",
              "L       17587\n",
              "XXS      9964\n",
              "XXL        69\n",
              "Name: size, dtype: int64"
            ]
          },
          "metadata": {
            "tags": []
          },
          "execution_count": 6
        }
      ]
    },
    {
      "cell_type": "markdown",
      "metadata": {
        "id": "D0mgsVnaaek9"
      },
      "source": [
        "Preciso modificar para numeração BR."
      ]
    },
    {
      "cell_type": "markdown",
      "metadata": {
        "id": "dwE3uIPvjq-T"
      },
      "source": [
        "Banco de dados da OCDE (https://data.oecd.org/agroutput/crop-production.htm) https://www.kaggle.com/vagifa/worldwide-crop-production"
      ]
    },
    {
      "cell_type": "code",
      "metadata": {
        "colab": {
          "base_uri": "https://localhost:8080/",
          "height": 204
        },
        "id": "B7RBuSbRd79P",
        "outputId": "01b7c26d-7d56-476d-df89-95756a8f7b0b"
      },
      "source": [
        "crop = pd.read_csv(\"./drive/MyDrive/worldwide_crop_consumption.csv\")\n",
        "crop.head()"
      ],
      "execution_count": null,
      "outputs": [
        {
          "output_type": "execute_result",
          "data": {
            "text/html": [
              "<div>\n",
              "<style scoped>\n",
              "    .dataframe tbody tr th:only-of-type {\n",
              "        vertical-align: middle;\n",
              "    }\n",
              "\n",
              "    .dataframe tbody tr th {\n",
              "        vertical-align: top;\n",
              "    }\n",
              "\n",
              "    .dataframe thead th {\n",
              "        text-align: right;\n",
              "    }\n",
              "</style>\n",
              "<table border=\"1\" class=\"dataframe\">\n",
              "  <thead>\n",
              "    <tr style=\"text-align: right;\">\n",
              "      <th></th>\n",
              "      <th>LOCATION</th>\n",
              "      <th>SUBJECT</th>\n",
              "      <th>MEASURE</th>\n",
              "      <th>TIME</th>\n",
              "      <th>Value</th>\n",
              "    </tr>\n",
              "  </thead>\n",
              "  <tbody>\n",
              "    <tr>\n",
              "      <th>0</th>\n",
              "      <td>AUS</td>\n",
              "      <td>RICE</td>\n",
              "      <td>TONNE_HA</td>\n",
              "      <td>1990</td>\n",
              "      <td>5.374114</td>\n",
              "    </tr>\n",
              "    <tr>\n",
              "      <th>1</th>\n",
              "      <td>AUS</td>\n",
              "      <td>RICE</td>\n",
              "      <td>TONNE_HA</td>\n",
              "      <td>1991</td>\n",
              "      <td>5.897753</td>\n",
              "    </tr>\n",
              "    <tr>\n",
              "      <th>2</th>\n",
              "      <td>AUS</td>\n",
              "      <td>RICE</td>\n",
              "      <td>TONNE_HA</td>\n",
              "      <td>1992</td>\n",
              "      <td>5.903150</td>\n",
              "    </tr>\n",
              "    <tr>\n",
              "      <th>3</th>\n",
              "      <td>AUS</td>\n",
              "      <td>RICE</td>\n",
              "      <td>TONNE_HA</td>\n",
              "      <td>1993</td>\n",
              "      <td>5.221311</td>\n",
              "    </tr>\n",
              "    <tr>\n",
              "      <th>4</th>\n",
              "      <td>AUS</td>\n",
              "      <td>RICE</td>\n",
              "      <td>TONNE_HA</td>\n",
              "      <td>1994</td>\n",
              "      <td>5.457576</td>\n",
              "    </tr>\n",
              "  </tbody>\n",
              "</table>\n",
              "</div>"
            ],
            "text/plain": [
              "  LOCATION SUBJECT   MEASURE  TIME     Value\n",
              "0      AUS    RICE  TONNE_HA  1990  5.374114\n",
              "1      AUS    RICE  TONNE_HA  1991  5.897753\n",
              "2      AUS    RICE  TONNE_HA  1992  5.903150\n",
              "3      AUS    RICE  TONNE_HA  1993  5.221311\n",
              "4      AUS    RICE  TONNE_HA  1994  5.457576"
            ]
          },
          "metadata": {},
          "execution_count": 3
        }
      ]
    },
    {
      "cell_type": "code",
      "metadata": {
        "colab": {
          "base_uri": "https://localhost:8080/"
        },
        "id": "39Rzo-bohr1Y",
        "outputId": "2eae0dc1-bb1b-46c1-d0cc-957d189c55b4"
      },
      "source": [
        "crop['MEASURE'].unique()"
      ],
      "execution_count": null,
      "outputs": [
        {
          "output_type": "execute_result",
          "data": {
            "text/plain": [
              "array(['TONNE_HA', 'THND_TONNE', 'THND_HA'], dtype=object)"
            ]
          },
          "metadata": {
            "tags": []
          },
          "execution_count": 22
        }
      ]
    },
    {
      "cell_type": "code",
      "metadata": {
        "colab": {
          "base_uri": "https://localhost:8080/"
        },
        "id": "gExMci9tjPY2",
        "outputId": "b2998303-dbe5-4003-a0ce-423ff074222b"
      },
      "source": [
        "crop['LOCATION'].unique()"
      ],
      "execution_count": null,
      "outputs": [
        {
          "output_type": "execute_result",
          "data": {
            "text/plain": [
              "array(['AUS', 'CAN', 'JPN', 'KOR', 'MEX', 'NZL', 'TUR', 'USA', 'DZA',\n",
              "       'ARG', 'BGD', 'BRA', 'CHL', 'CHN', 'COL', 'EGY', 'ETH', 'GHA',\n",
              "       'IND', 'IDN', 'IRN', 'KAZ', 'MYS', 'MOZ', 'NGA', 'PAK', 'PRY',\n",
              "       'PER', 'PHL', 'RUS', 'SAU', 'ZAF', 'SDN', 'TZA', 'THA', 'UKR',\n",
              "       'URY', 'VNM', 'ZMB', 'WLD', 'SSA', 'OECD', 'BRICS', 'NOR', 'CHE',\n",
              "       'EU28', 'ISR', 'HTI'], dtype=object)"
            ]
          },
          "metadata": {
            "tags": []
          },
          "execution_count": 32
        }
      ]
    },
    {
      "cell_type": "code",
      "metadata": {
        "colab": {
          "base_uri": "https://localhost:8080/"
        },
        "id": "UlORlW49iyGi",
        "outputId": "88fb3632-606f-423a-9c25-a349becb15d1"
      },
      "source": [
        "crop['SUBJECT'].unique()"
      ],
      "execution_count": null,
      "outputs": [
        {
          "output_type": "execute_result",
          "data": {
            "text/plain": [
              "array(['RICE', 'WHEAT', 'MAIZE', 'SOYBEAN'], dtype=object)"
            ]
          },
          "metadata": {
            "tags": []
          },
          "execution_count": 42
        }
      ]
    },
    {
      "cell_type": "code",
      "metadata": {
        "colab": {
          "base_uri": "https://localhost:8080/",
          "height": 296
        },
        "id": "oK2k38LkeJNu",
        "outputId": "40951b7d-65be-4860-8c57-c0ccf09b41a4"
      },
      "source": [
        "#cropBrazil= crop.query(\"LOCATION == 'BRA' & SUBJECT == 'SOYBEAN' & MEASURE =='THND_HA' \")\n",
        "cropBrazil= crop.query(\"LOCATION == 'BRA' & MEASURE =='THND_HA' & TIME <2020 \")\n",
        "\n",
        "#cropBrazilSelect = cropBrazil[[\"TIME\",\"Value\"]]\n",
        "\n",
        "cropBrazilSelect = cropBrazil[[\"TIME\",\"Value\",\"SUBJECT\"]]\n",
        "cropBrazilSelect.head()\n",
        "sns.scatterplot(x=\"TIME\", y=\"Value\", data = cropBrazilSelect, hue=\"SUBJECT\")"
      ],
      "execution_count": null,
      "outputs": [
        {
          "output_type": "execute_result",
          "data": {
            "text/plain": [
              "<matplotlib.axes._subplots.AxesSubplot at 0x7f8524129550>"
            ]
          },
          "metadata": {
            "tags": []
          },
          "execution_count": 5
        },
        {
          "output_type": "display_data",
          "data": {
            "image/png": "[encoded data removed]",
            "text/plain": [
              "<Figure size 432x288 with 1 Axes>"
            ]
          },
          "metadata": {
            "tags": []
          }
        }
      ]
    }
  ]
}